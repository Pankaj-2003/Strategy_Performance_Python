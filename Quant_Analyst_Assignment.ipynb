{
  "nbformat": 4,
  "nbformat_minor": 0,
  "metadata": {
    "colab": {
      "provenance": [],
      "authorship_tag": "ABX9TyN1xYIPHAuyCHiQrfDWYtSO",
      "include_colab_link": true
    },
    "kernelspec": {
      "name": "python3",
      "display_name": "Python 3"
    },
    "language_info": {
      "name": "python"
    }
  },
  "cells": [
    {
      "cell_type": "markdown",
      "metadata": {
        "id": "view-in-github",
        "colab_type": "text"
      },
      "source": [
        "<a href=\"https://colab.research.google.com/github/Pankaj-2003/Strategy_Performance_Python/blob/main/Quant_Analyst_Assignment.ipynb\" target=\"_parent\"><img src=\"https://colab.research.google.com/assets/colab-badge.svg\" alt=\"Open In Colab\"/></a>"
      ]
    },
    {
      "cell_type": "code",
      "execution_count": 21,
      "metadata": {
        "id": "C7fnW4BruAzk"
      },
      "outputs": [],
      "source": [
        "import pandas as pd\n",
        "import numpy as np\n",
        "import random\n",
        "from datetime import datetime , timedelta"
      ]
    },
    {
      "cell_type": "markdown",
      "source": [
        "## Dataframe columns\n",
        "### Date (datetime64[ns]): The date and time of the trade\n",
        "### Symbol (string): The ticker symbol of the traded security\n",
        "### Side (string): Either 'buy' or 'sell'\n",
        "### Size (float, optional): The number of shares traded (default to 1 if not provided)\n",
        "### Price (float): The price at which the trade was executed"
      ],
      "metadata": {
        "id": "Hb0dHVfyvm9S"
      }
    },
    {
      "cell_type": "code",
      "source": [
        "def getTickerPrice(ticker: str, date: datetime) -> float:\n",
        "    # This function returns the price of the security 'ticker' at the given 'date'\n",
        "    # For the purpose of this exercise, assume it returns a random number\n",
        "    return random.uniform(1, 100)  # Example implementation"
      ],
      "metadata": {
        "id": "4NahLpp-v62A"
      },
      "execution_count": 24,
      "outputs": []
    },
    {
      "cell_type": "code",
      "source": [
        "metrics = [\"Sharpe\" , \"max-drawdown\" ,  \"profit factor\" , \"total net profit\" , \"Percent Profitable\" , \"average win\\loss Ratio\" , \"Expectancy\" , \"Recovery factor\" , \"average r multiple\" , \"ROI\"]"
      ],
      "metadata": {
        "id": "KmDC7QGBvgsS"
      },
      "execution_count": 2,
      "outputs": []
    },
    {
      "cell_type": "code",
      "source": [
        "def calculate_sharpe(daily_returns, risk_free_rate=0.01):\n",
        "    average_daily_return = daily_returns.mean()\n",
        "    std_daily_return = daily_returns.std()\n",
        "\n",
        "    # Avoid division by zero\n",
        "    if std_daily_return == 0:\n",
        "        return np.inf\n",
        "\n",
        "    sharpe_ratio = (average_daily_return - risk_free_rate) / std_daily_return\n",
        "    return sharpe_ratio"
      ],
      "metadata": {
        "id": "-K1_UVzauPZT"
      },
      "execution_count": 2,
      "outputs": []
    },
    {
      "cell_type": "code",
      "source": [
        "def trade_perf(trades : pd.dataframe) -> pd.series:\n",
        "  # if dataframe is empty\n",
        "  if trades.empty:\n",
        "    return pd.Series({\n",
        "            'Sharpe': 0,\n",
        "            'max-drawdown': 0,\n",
        "            'profit factor': 0,\n",
        "            'total net profit': 0,\n",
        "            'Percent Profitable': 0,\n",
        "            'average win\\loss Ratio': 0,\n",
        "            'Expectancy': 0,\n",
        "            'Recovery factor': 0,\n",
        "            'average r multiple': 0,\n",
        "            'ROI': 0})\n",
        "\n",
        "  # handling missing values\n",
        "\n",
        "  trades['Size'] = trades['Size'].fillna(1)\n",
        "  trades = trades[trades['Symbol'].notna()]\n",
        "  trades = trades[trades['Side'].notna()]\n",
        "\n",
        "  # seperate way to fill price\n",
        "  def fill_missing_prices(row):\n",
        "    if pd.isna(row['Price']):\n",
        "        row['Price'] = getTickerPrice(row['Symbol'], row['Date'])\n",
        "    return row\n",
        "  trades = trades.apply(fill_missing_prices, axis=1)\n",
        "\n",
        "\n",
        "\n",
        "\n",
        "  # calculating returns\n",
        "  def calculate_return(row):\n",
        "    current_price = getTickerPrice(row['Symbol'], row['Date'])\n",
        "    if row['Side'] == 'buy':\n",
        "        return (current_price - row['Price']) * row['Size']\n",
        "    else:\n",
        "        return (row['Price'] - current_price) * row['Size']\n",
        "\n",
        "  trades['Return'] = trades.apply(calculate_return, axis=1)  # Applying the function to each row of the df\n",
        "\n",
        "  daily_returns = trades.groupby('Date')['Return'].sum() # daily return for sharpe\n",
        "\n",
        "\n",
        "\n",
        "  # 1- calculating metrics\n",
        "\n",
        "  sharpe_ratio = calculate_sharpe(daily_returns)\n",
        "\n",
        "  # 2 - max_drawdown\n",
        "  total_return = daily_returns.cumsum()\n",
        "  drawdown = total_return - total_return.cummax()\n",
        "  maxdd = drawdown.min()\n",
        "\n",
        "\n",
        "\n",
        "\n",
        "\n",
        "\n",
        "\n",
        "\n",
        "\n",
        "\n",
        "\n"
      ],
      "metadata": {
        "id": "3WDveho8uHbk"
      },
      "execution_count": null,
      "outputs": []
    },
    {
      "cell_type": "code",
      "source": [
        "symbols = ['AAPL', 'MSFT', 'GOOGL', 'AMZN', 'TSLA']\n",
        "sides = ['buy', 'sell']\n",
        "base_date = datetime(2024, 7, 15)\n",
        "dates = [base_date + timedelta(days=i//4) for i in range(20)]\n",
        "data = {\n",
        "    'Date': dates,\n",
        "    'Symbol': [random.choice(symbols) for _ in range(20)],\n",
        "    'Side': [random.choice(sides) for _ in range(20)],\n",
        "    'Size': [random.randint(1, 100) for _ in range(20)],\n",
        "    'Price': [random.uniform(50, 300) for _ in range(20)],\n",
        "}\n",
        "trades = pd.DataFrame(data)\n",
        "\n",
        "\n"
      ],
      "metadata": {
        "id": "hcJTxoc_uIM-"
      },
      "execution_count": 31,
      "outputs": []
    },
    {
      "cell_type": "code",
      "source": [
        "# Introduce missing values randomly\n",
        "for col in ['Symbol', 'Size', 'Price']:\n",
        "    trades.loc[random.sample(range(len(trades)), k=5), col] = np.nan  # Set 5 random entries in each column to NaN"
      ],
      "metadata": {
        "id": "JoCLe_0suIQV"
      },
      "execution_count": 32,
      "outputs": []
    },
    {
      "cell_type": "code",
      "source": [
        "daily_returns = trades.groupby('Date')['Return'].sum()"
      ],
      "metadata": {
        "id": "FiFXf7qXMn6l"
      },
      "execution_count": 64,
      "outputs": []
    },
    {
      "cell_type": "code",
      "source": [
        "total_return = daily_returns.cumsum()\n",
        "  # drawdown = total_return - total_return.cummax()\n",
        "  # maxdd = drawdown.min()"
      ],
      "metadata": {
        "id": "Z_mSw95iuIb6"
      },
      "execution_count": 65,
      "outputs": []
    },
    {
      "cell_type": "code",
      "source": [
        "total_return.cummax()"
      ],
      "metadata": {
        "id": "5g4mE1_CuIfT",
        "colab": {
          "base_uri": "https://localhost:8080/"
        },
        "outputId": "8b1a1d11-d742-48e2-e7e4-a295f4ff1231"
      },
      "execution_count": 67,
      "outputs": [
        {
          "output_type": "execute_result",
          "data": {
            "text/plain": [
              "Date\n",
              "2024-07-15      -32.514016\n",
              "2024-07-16     6827.796687\n",
              "2024-07-17    22239.600197\n",
              "2024-07-18    22239.600197\n",
              "2024-07-19    22239.600197\n",
              "Name: Return, dtype: float64"
            ]
          },
          "metadata": {},
          "execution_count": 67
        }
      ]
    },
    {
      "cell_type": "code",
      "source": [
        "total_return"
      ],
      "metadata": {
        "id": "17m6SsFkuIi3",
        "colab": {
          "base_uri": "https://localhost:8080/"
        },
        "outputId": "98170aa2-5057-4ba6-cc32-80b9440e6bfd"
      },
      "execution_count": 68,
      "outputs": [
        {
          "output_type": "execute_result",
          "data": {
            "text/plain": [
              "Date\n",
              "2024-07-15      -32.514016\n",
              "2024-07-16     6827.796687\n",
              "2024-07-17    22239.600197\n",
              "2024-07-18    17050.196994\n",
              "2024-07-19    17492.424626\n",
              "Name: Return, dtype: float64"
            ]
          },
          "metadata": {},
          "execution_count": 68
        }
      ]
    },
    {
      "cell_type": "code",
      "source": [
        "maxdd = drawdown.min()"
      ],
      "metadata": {
        "id": "5skDo04I4RYQ"
      },
      "execution_count": 72,
      "outputs": []
    },
    {
      "cell_type": "code",
      "source": [
        "drawdown = total_return - total_return.cummax()"
      ],
      "metadata": {
        "id": "AEUlaLYY5Opu"
      },
      "execution_count": 71,
      "outputs": []
    },
    {
      "cell_type": "code",
      "source": [
        "drawdown"
      ],
      "metadata": {
        "colab": {
          "base_uri": "https://localhost:8080/"
        },
        "id": "tYHbqDvz7fBj",
        "outputId": "ccce657c-2636-4a2d-d583-cb2472b937e9"
      },
      "execution_count": 74,
      "outputs": [
        {
          "output_type": "execute_result",
          "data": {
            "text/plain": [
              "Date\n",
              "2024-07-15       0.000000\n",
              "2024-07-16       0.000000\n",
              "2024-07-17       0.000000\n",
              "2024-07-18   -5189.403204\n",
              "2024-07-19   -4747.175572\n",
              "Name: Return, dtype: float64"
            ]
          },
          "metadata": {},
          "execution_count": 74
        }
      ]
    },
    {
      "cell_type": "code",
      "source": [
        "daily_returns"
      ],
      "metadata": {
        "colab": {
          "base_uri": "https://localhost:8080/"
        },
        "id": "I4u7YJ-iOAWu",
        "outputId": "7039b972-2ee8-4d67-e779-4c9c2d8bdb1c"
      },
      "execution_count": 75,
      "outputs": [
        {
          "output_type": "execute_result",
          "data": {
            "text/plain": [
              "Date\n",
              "2024-07-15      -32.514016\n",
              "2024-07-16     6860.310703\n",
              "2024-07-17    15411.803511\n",
              "2024-07-18    -5189.403204\n",
              "2024-07-19      442.227632\n",
              "Name: Return, dtype: float64"
            ]
          },
          "metadata": {},
          "execution_count": 75
        }
      ]
    },
    {
      "cell_type": "code",
      "source": [],
      "metadata": {
        "id": "U_nM4l7kOO7g"
      },
      "execution_count": null,
      "outputs": []
    }
  ]
}